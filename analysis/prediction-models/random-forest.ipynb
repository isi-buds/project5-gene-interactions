{
 "cells": [
  {
   "cell_type": "code",
   "execution_count": null,
   "id": "40dea6fc",
   "metadata": {
    "lines_to_next_cell": 0
   },
   "outputs": [],
   "source": [
    "import pandas as pd\n",
    "import numpy as np\n",
    "import os\n",
    "from sklearn.ensemble import RandomForestClassifier\n",
    "from sklearn.model_selection import GridSearchCV\n",
    "from sklearn.metrics import accuracy_score\n",
    "from evaluation import kfold_log_loss\n",
    "\n",
    "data_path = ['data']"
   ]
  },
  {
   "cell_type": "code",
   "execution_count": null,
   "id": "d11beef7",
   "metadata": {},
   "outputs": [],
   "source": [
    "X = pd.read_table(os.path.join(*data_path, 'SyntheticData_FirstSet.txt'),\n",
    "                       delimiter='   ',\n",
    "                       header=None,\n",
    "                       dtype=float,\n",
    "                       engine='python')\n",
    "\n",
    "y = pd.read_table(os.path.join(*data_path, 'membership.txt'),\n",
    "                             delimiter='   ',\n",
    "                             names=['motif'],\n",
    "                             dtype=int,\n",
    "                             engine='python')\n",
    "\n",
    "train_index = y.groupby('motif').sample(frac=.8).index\n",
    "test_index = ~y.index.isin(train_index)\n",
    "\n",
    "y = y['motif'].values.reshape(-1)"
   ]
  },
  {
   "cell_type": "code",
   "execution_count": null,
   "id": "dd2e154d",
   "metadata": {
    "lines_to_next_cell": 0
   },
   "outputs": [],
   "source": [
    "'''\n",
    "parameters = dict(n_estimators = [100, 500, 1000],\n",
    "                  max_depth = [2,4,10],\n",
    "                  max_features = [.5, .7, .8])\n",
    "\n",
    "GSRF = GridSearchCV(RandomForestClassifier(), parameters, n_jobs=-1)\n",
    "GSRF.fit(X.loc[train_index], y.loc[train_index].values.reshape(-1))\n",
    "print(GSRF.best_params_)  # {'max_depth': 10, 'max_features': 0.5, 'n_estimators': 100}\n",
    "'''\n",
    "rfc_params_1 = {'max_depth': 10, 'max_features': 0.5, 'n_estimators': 100}\n",
    "rfc_1 = RandomForestClassifier(**rfc_params_1, n_jobs=-1)\n",
    "\n",
    "print('Random Forest with Untransformed X, Unreduced y:\\n',\n",
    "    kfold_log_loss(rfc_1, X=X, y=y)\n",
    ") # 3.337138180175846\n",
    "\n",
    "rfc_1.fit(X.loc[train_index], y.loc[train_index].values.reshape(-1))\n",
    "\n",
    "print('Accuracy:',\n",
    "    accuracy_score(y.loc[test_index].values.reshape(-1), \n",
    "        rfc_1.predict_proba(X.loc[test_index]))\n",
    ")"
   ]
  },
  {
   "cell_type": "code",
   "execution_count": null,
   "id": "8b24f562",
   "metadata": {
    "lines_to_next_cell": 2,
    "title": "Reduced number of outcomes"
   },
   "outputs": [],
   "source": [
    "motifs_of_interest = [57, 50, 32, 29, 53, 8, 44]\n",
    "y_new = [ i if i in motifs_of_interest else 0 for i in y]\n",
    "\n",
    "'''\n",
    "parameters = dict(n_estimators = [100, 500, 1000],\n",
    "                  max_depth = [2,4,10],\n",
    "                  max_features = [.5, .7, .8])\n",
    "\n",
    "GSRF = GridSearchCV(RandomForestClassifier(), parameters, n_jobs=-1)\n",
    "GSRF.fit(X.loc[train_index], y_new[train_index])\n",
    "print(GSRF.best_params_)  # \n",
    "'''"
   ]
  },
  {
   "cell_type": "code",
   "execution_count": null,
   "id": "111defbf",
   "metadata": {
    "title": "Transformed X"
   },
   "outputs": [],
   "source": [
    "X_m = pd.read_csv(os.path.join(*data_path, 'firstset_measures.csv'))\n",
    "\n",
    "'''\n",
    "parameters = dict(n_estimators = [100, 500, 1000],\n",
    "                  max_depth = [2,4,10],\n",
    "                  max_features = [.5, .7, .8])\n",
    "\n",
    "GSRF = GridSearchCV(RandomForestClassifier(), parameters, n_jobs=-1)\n",
    "GSRF.fit(X_m.loc[train_index], y_new[train_index])\n",
    "print(GSRF.best_params_)  # \n",
    "'''"
   ]
  }
 ],
 "metadata": {
  "jupytext": {
   "cell_metadata_filter": "title,-all",
   "notebook_metadata_filter": "-all",
   "text_representation": {
    "extension": ".py",
    "format_name": "percent"
   }
  },
  "kernelspec": {
   "display_name": "Python 3 (ipykernel)",
   "language": "python",
   "name": "python3"
  }
 },
 "nbformat": 4,
 "nbformat_minor": 5
}
